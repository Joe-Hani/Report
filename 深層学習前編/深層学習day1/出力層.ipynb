{
  "nbformat": 4,
  "nbformat_minor": 0,
  "metadata": {
    "colab": {
      "name": "出力層.ipynb",
      "provenance": [],
      "collapsed_sections": []
    },
    "kernelspec": {
      "name": "python3",
      "display_name": "Python 3"
    },
    "language_info": {
      "name": "python"
    }
  },
  "cells": [
    {
      "cell_type": "code",
      "metadata": {
        "id": "l7Yus0igyU-g"
      },
      "source": [
        "import numpy as np"
      ],
      "execution_count": 18,
      "outputs": []
    },
    {
      "cell_type": "code",
      "metadata": {
        "colab": {
          "base_uri": "https://localhost:8080/"
        },
        "id": "iPJOxXqaypmk",
        "outputId": "fa5cd2e9-6b2b-4ec0-a1ea-8bbf48a9e8f7"
      },
      "source": [
        "# W_1,b_1を設定\n",
        "W_1 = np.random.randn(2,3)\n",
        "b_1 = np.random.randn(1,2)\n",
        "W_1,b_1"
      ],
      "execution_count": 19,
      "outputs": [
        {
          "output_type": "execute_result",
          "data": {
            "text/plain": [
              "(array([[-0.85226586, -0.74838968, -0.47477658],\n",
              "        [ 0.9893178 , -0.17452691,  0.08049864]]),\n",
              " array([[-0.1930833 , -1.26376165]]))"
            ]
          },
          "metadata": {},
          "execution_count": 19
        }
      ]
    },
    {
      "cell_type": "code",
      "metadata": {
        "id": "czIZyPDVzFCQ"
      },
      "source": [
        "# f_1を設定\n",
        "def f_1(x):\n",
        "  return 1/1+np.exp(-x)"
      ],
      "execution_count": 20,
      "outputs": []
    },
    {
      "cell_type": "code",
      "metadata": {
        "id": "NMyBnSO6zd0L"
      },
      "source": [
        "# FNを設定\n",
        "def FN(W,b,f,x):\n",
        "  x = x.T\n",
        "  Z = np.dot(W,x)+b\n",
        "  return f(Z)"
      ],
      "execution_count": 21,
      "outputs": []
    },
    {
      "cell_type": "code",
      "metadata": {
        "colab": {
          "base_uri": "https://localhost:8080/"
        },
        "id": "3QlRH43Q8-Jp",
        "outputId": "9297e59b-04f5-4e4f-c80d-b1fd86bd0891"
      },
      "source": [
        "# W_2,b_2を設定\n",
        "W_2= np.random.randn(1,2)\n",
        "b_2= np.random.randn()\n",
        "W_2,b_2"
      ],
      "execution_count": 28,
      "outputs": [
        {
          "output_type": "execute_result",
          "data": {
            "text/plain": [
              "(array([[-0.79262461, -1.11520968]]), 1.4734070700523327)"
            ]
          },
          "metadata": {},
          "execution_count": 28
        }
      ]
    },
    {
      "cell_type": "code",
      "metadata": {
        "id": "W4WVpm8G-amV"
      },
      "source": [
        "#f_2を設定\n",
        "def f_2(x):\n",
        "  return x"
      ],
      "execution_count": 30,
      "outputs": []
    },
    {
      "cell_type": "code",
      "metadata": {
        "colab": {
          "base_uri": "https://localhost:8080/"
        },
        "id": "qPoW0s_l-k0T",
        "outputId": "30ae7b91-061c-4284-ae54-42ce5d60bccc"
      },
      "source": [
        "#出力\n",
        "x = np.array([0.1,0.2,0.3])\n",
        "x = FN(W_1,b_1,f_1,x)\n",
        "FN(W_2,b_2,f_2,x)"
      ],
      "execution_count": 31,
      "outputs": [
        {
          "output_type": "execute_result",
          "data": {
            "text/plain": [
              "array([[-5.44991305]])"
            ]
          },
          "metadata": {},
          "execution_count": 31
        }
      ]
    }
  ]
}