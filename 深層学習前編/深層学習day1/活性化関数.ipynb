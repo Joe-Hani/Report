{
  "nbformat": 4,
  "nbformat_minor": 0,
  "metadata": {
    "colab": {
      "name": "活性化関数.ipynb",
      "provenance": [],
      "collapsed_sections": []
    },
    "kernelspec": {
      "name": "python3",
      "display_name": "Python 3"
    },
    "language_info": {
      "name": "python"
    }
  },
  "cells": [
    {
      "cell_type": "code",
      "metadata": {
        "id": "l7Yus0igyU-g"
      },
      "source": [
        "import numpy as np"
      ],
      "execution_count": 26,
      "outputs": []
    },
    {
      "cell_type": "code",
      "metadata": {
        "colab": {
          "base_uri": "https://localhost:8080/"
        },
        "id": "iPJOxXqaypmk",
        "outputId": "9816ef6c-810f-401d-d8fb-cf58ac5d5121"
      },
      "source": [
        "# W,bを設定\n",
        "W = np.random.randn(2,3)\n",
        "b = np.random.randn(1,2)\n",
        "W,b"
      ],
      "execution_count": 27,
      "outputs": [
        {
          "output_type": "execute_result",
          "data": {
            "text/plain": [
              "(array([[-0.3275861 ,  0.35679815, -0.93635564],\n",
              "        [-0.3966737 ,  2.45340843,  0.80369067]]),\n",
              " array([[ 0.73728049, -0.99336306]]))"
            ]
          },
          "metadata": {},
          "execution_count": 27
        }
      ]
    },
    {
      "cell_type": "code",
      "metadata": {
        "id": "czIZyPDVzFCQ"
      },
      "source": [
        "# fを設定\n",
        "def f(x):\n",
        "  return 1/1+np.exp(-x)"
      ],
      "execution_count": 28,
      "outputs": []
    },
    {
      "cell_type": "code",
      "metadata": {
        "id": "NMyBnSO6zd0L"
      },
      "source": [
        "# FNを設定\n",
        "def FN(W,b,f,x):\n",
        "  x = x.T\n",
        "  Z = np.dot(W,x)+b\n",
        "  return f(Z)"
      ],
      "execution_count": 29,
      "outputs": []
    },
    {
      "cell_type": "code",
      "metadata": {
        "colab": {
          "base_uri": "https://localhost:8080/"
        },
        "id": "IkzHPBGY0ULx",
        "outputId": "626416d2-a16d-4182-ab04-c5ce95e79c4e"
      },
      "source": [
        "#出力\n",
        "x = np.array([0.1,0.2,0.3])\n",
        "FN(W,b,f,x)\n"
      ],
      "execution_count": 31,
      "outputs": [
        {
          "output_type": "execute_result",
          "data": {
            "text/plain": [
              "array([[1.60958626, 2.35153575]])"
            ]
          },
          "metadata": {},
          "execution_count": 31
        }
      ]
    }
  ]
}