{
  "nbformat": 4,
  "nbformat_minor": 0,
  "metadata": {
    "colab": {
      "name": "GRU.ipynb",
      "provenance": []
    },
    "kernelspec": {
      "name": "python3",
      "display_name": "Python 3"
    },
    "language_info": {
      "name": "python"
    }
  },
  "cells": [
    {
      "cell_type": "code",
      "metadata": {
        "id": "dK90WaipP3Wl"
      },
      "source": [
        "import numpy as np"
      ],
      "execution_count": 1,
      "outputs": []
    },
    {
      "cell_type": "code",
      "metadata": {
        "id": "YLk-1PNxQKHL"
      },
      "source": [
        "class GRU:\n",
        "    def __init__(self, Wx, Wh, b):\n",
        "        '''\n",
        "        Parameters\n",
        "        ----------\n",
        "        Wx: 入力`x`用の重みパラーメタ（3つ分の重みをまとめる）\n",
        "        Wh: 隠れ状態`h`用の重みパラメータ（3つ分の重みをまとめる）\n",
        "        b: バイアス（3つ分のバイアスをまとめる）\n",
        "        '''\n",
        "        self.params = [Wx, Wh, b]\n",
        "        self.grads = [np.zeros_like(Wx), np.zeros_like(Wh), np.zeros_like(b)]\n",
        "        self.cache = None\n",
        "\n",
        "    def forward(self, x, h_prev):\n",
        "        Wx, Wh, b = self.params\n",
        "        H = Wh.shape[0]\n",
        "        Wxz, Wxr, Wxh = Wx[:, :H], Wx[:, H:2 * H], Wx[:, 2 * H:]\n",
        "        Whz, Whr, Whh = Wh[:, :H], Wh[:, H:2 * H], Wh[:, 2 * H:]\n",
        "        bz, br, bh = b[:H], b[H:2 * H], b[2 * H:]\n",
        "\n",
        "        z = sigmoid(np.dot(x, Wxz) + np.dot(h_prev, Whz) + bz)\n",
        "        r = sigmoid(np.dot(x, Wxr) + np.dot(h_prev, Whr) + br)\n",
        "        h_hat = np.tanh(np.dot(x, Wxh) + np.dot(r*h_prev, Whh) + bh)\n",
        "        h_next = (1-z) * h_prev + z * h_hat\n",
        "\n",
        "        self.cache = (x, h_prev, z, r, h_hat)\n",
        "\n",
        "        return h_next\n",
        "\n",
        "    def backward(self, dh_next):\n",
        "        Wx, Wh, b = self.params\n",
        "        H = Wh.shape[0]\n",
        "        Wxz, Wxr, Wxh = Wx[:, :H], Wx[:, H:2 * H], Wx[:, 2 * H:]\n",
        "        Whz, Whr, Whh = Wh[:, :H], Wh[:, H:2 * H], Wh[:, 2 * H:]\n",
        "        x, h_prev, z, r, h_hat = self.cache\n",
        "\n",
        "        dh_hat =dh_next * z\n",
        "        dh_prev = dh_next * (1-z)\n",
        "\n",
        "        # tanh\n",
        "        dt = dh_hat * (1 - h_hat ** 2)\n",
        "        dbh = np.sum(dt, axis=0)\n",
        "        dWhh = np.dot((r * h_prev).T, dt)\n",
        "        dhr = np.dot(dt, Whh.T)\n",
        "        dWxh = np.dot(x.T, dt)\n",
        "        dx = np.dot(dt, Wxh.T)\n",
        "        dh_prev += r * dhr\n",
        "\n",
        "        # update gate(z)\n",
        "        dz = dh_next * h_hat - dh_next * h_prev\n",
        "        dt = dz * z * (1-z)\n",
        "        dbz = np.sum(dt, axis=0)\n",
        "        dWhz = np.dot(h_prev.T, dt)\n",
        "        dh_prev += np.dot(dt, Whz.T)\n",
        "        dWxz = np.dot(x.T, dt)\n",
        "        dx += np.dot(dt, Wxz.T)\n",
        "\n",
        "        # rest gate(r)\n",
        "        dr = dhr * h_prev\n",
        "        dt = dr * r * (1-r)\n",
        "        dbr = np.sum(dt, axis=0)\n",
        "        dWhr = np.dot(h_prev.T, dt)\n",
        "        dh_prev += np.dot(dt, Whr.T)\n",
        "        dWxr = np.dot(x.T, dt)\n",
        "        dx += np.dot(dt, Wxr.T)\n",
        "\n",
        "        self.dWx = np.hstack((dWxz, dWxr, dWxh))\n",
        "        self.dWh = np.hstack((dWhz, dWhr, dWhh))\n",
        "        self.db = np.hstack((dbz, dbr, dbh))\n",
        "\n",
        "        self.grads[0][...] = self.dWx\n",
        "        self.grads[1][...] = self.dWh\n",
        "        self.grads[2][...] = self.db\n",
        "\n",
        "        return dx, dh_prev"
      ],
      "execution_count": 2,
      "outputs": []
    }
  ]
}