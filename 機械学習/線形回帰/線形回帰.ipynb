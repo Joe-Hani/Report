{
  "nbformat": 4,
  "nbformat_minor": 0,
  "metadata": {
    "colab": {
      "name": "線形回帰.ipynb",
      "provenance": [],
      "collapsed_sections": []
    },
    "kernelspec": {
      "name": "python3",
      "display_name": "Python 3"
    },
    "language_info": {
      "name": "python"
    }
  },
  "cells": [
    {
      "cell_type": "code",
      "metadata": {
        "colab": {
          "base_uri": "https://localhost:8080/"
        },
        "id": "3urnuTvRuXe0",
        "outputId": "7801e0e6-7a63-411c-88d7-0c9d242221e1"
      },
      "source": [
        "from sklearn.datasets import load_boston\n",
        "import pandas as pd\n",
        "import matplotlib.pyplot as plt\n",
        "from sklearn.linear_model import LinearRegression\n",
        "\n",
        "boston = load_boston() #データを取得\n",
        "\n",
        "boston_df = pd.DataFrame(boston.data, columns = boston.feature_names) \n",
        "boston_df['MEDV'] = boston.target \n",
        "\n",
        "reg = LinearRegression() #f_{w,b}=wx+bを設定\n",
        "\n",
        "X = boston_df[['RM']].values #特徴ベクトル\n",
        "Y = boston_df['MEDV'].values #ラベル\n",
        "\n",
        "reg.fit(X, Y) #w,bの最適解を求める"
      ],
      "execution_count": 4,
      "outputs": [
        {
          "output_type": "execute_result",
          "data": {
            "text/plain": [
              "LinearRegression(copy_X=True, fit_intercept=True, n_jobs=None, normalize=False)"
            ]
          },
          "metadata": {},
          "execution_count": 4
        }
      ]
    },
    {
      "cell_type": "code",
      "metadata": {
        "colab": {
          "base_uri": "https://localhost:8080/"
        },
        "id": "pZ0EoRsD2cQE",
        "outputId": "82086870-67a8-44f1-afe3-484d35e374ef"
      },
      "source": [
        "reg.coef_ # wの値"
      ],
      "execution_count": 5,
      "outputs": [
        {
          "output_type": "execute_result",
          "data": {
            "text/plain": [
              "array([9.10210898])"
            ]
          },
          "metadata": {},
          "execution_count": 5
        }
      ]
    },
    {
      "cell_type": "code",
      "metadata": {
        "colab": {
          "base_uri": "https://localhost:8080/"
        },
        "id": "fgE3Q6jB2eiU",
        "outputId": "6b175a1c-0810-4c2b-fd8b-3bc5b6f2f217"
      },
      "source": [
        "reg.intercept_ # bの値"
      ],
      "execution_count": 6,
      "outputs": [
        {
          "output_type": "execute_result",
          "data": {
            "text/plain": [
              "-34.67062077643857"
            ]
          },
          "metadata": {},
          "execution_count": 6
        }
      ]
    },
    {
      "cell_type": "code",
      "metadata": {
        "colab": {
          "base_uri": "https://localhost:8080/",
          "height": 265
        },
        "id": "aDu8inEA1Nw4",
        "outputId": "93abc71a-eda0-4cd4-c486-578bbc791db1"
      },
      "source": [
        "plt.scatter(X, Y, color = 'blue')\n",
        "plt.plot(X, lr.predict(X), color = 'red')\n",
        "\n",
        "plt.show()  #結果を確認"
      ],
      "execution_count": 7,
      "outputs": [
        {
          "output_type": "display_data",
          "data": {
            "image/png": "[encoded data removed]",
            "text/plain": [
              "<Figure size 432x288 with 1 Axes>"
            ]
          },
          "metadata": {
            "needs_background": "light"
          }
        }
      ]
    }
  ]
}