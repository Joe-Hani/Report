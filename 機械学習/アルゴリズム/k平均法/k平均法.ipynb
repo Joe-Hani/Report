{
  "nbformat": 4,
  "nbformat_minor": 0,
  "metadata": {
    "colab": {
      "name": "k平均法.ipynb",
      "provenance": [],
      "collapsed_sections": []
    },
    "kernelspec": {
      "name": "python3",
      "display_name": "Python 3"
    },
    "language_info": {
      "name": "python"
    }
  },
  "cells": [
    {
      "cell_type": "code",
      "metadata": {
        "id": "KZguGOwbUOgz"
      },
      "source": [
        "#データを生成\n",
        "import numpy as np\n",
        "X = np.array([[-2.7], [-1.3], [0.7], [3.5], [5.1]])"
      ],
      "execution_count": 1,
      "outputs": []
    },
    {
      "cell_type": "code",
      "metadata": {
        "colab": {
          "base_uri": "https://localhost:8080/"
        },
        "id": "RINDj_tVVMLe",
        "outputId": "d0731b65-83a6-4c7e-f196-1a2c1e5fdf55"
      },
      "source": [
        "from sklearn.cluster import KMeans\n",
        "kmeans = KMeans(n_clusters=2) #k=2として、k平均法を適用\n",
        "y_pred = kmeans.fit(X).predict(X) #Xをクラスタリングする\n",
        "print(y_pred)"
      ],
      "execution_count": 2,
      "outputs": [
        {
          "output_type": "stream",
          "name": "stdout",
          "text": [
            "[0 0 0 1 1]\n"
          ]
        }
      ]
    }
  ]
}