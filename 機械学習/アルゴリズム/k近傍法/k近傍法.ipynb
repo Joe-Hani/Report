{
  "nbformat": 4,
  "nbformat_minor": 0,
  "metadata": {
    "colab": {
      "name": "k近傍法.ipynb",
      "provenance": [],
      "collapsed_sections": []
    },
    "kernelspec": {
      "name": "python3",
      "display_name": "Python 3"
    },
    "language_info": {
      "name": "python"
    }
  },
  "cells": [
    {
      "cell_type": "code",
      "metadata": {
        "id": "kxEILIzINTNi"
      },
      "source": [
        "#データを生成\n",
        "import numpy as np\n",
        "X = np.array([[-0.1], [0.7], [1.0], [1.6], [2.0], [2.5], [3.3]])\n",
        "y = np.array([0, 0, 1, 1, 1, 0, 0])"
      ],
      "execution_count": 1,
      "outputs": []
    },
    {
      "cell_type": "code",
      "metadata": {
        "colab": {
          "base_uri": "https://localhost:8080/"
        },
        "id": "2sJNArbYPDZ-",
        "outputId": "54ae4c5b-b51e-4a9d-f71d-90d8b4a09ec4"
      },
      "source": [
        "from sklearn.neighbors import KNeighborsClassifier\n",
        "neigh = KNeighborsClassifier(n_neighbors=3) \n",
        "neigh.fit(X,y) #k=3として、k近傍法を適用"
      ],
      "execution_count": 4,
      "outputs": [
        {
          "output_type": "execute_result",
          "data": {
            "text/plain": [
              "KNeighborsClassifier(algorithm='auto', leaf_size=30, metric='minkowski',\n",
              "                     metric_params=None, n_jobs=None, n_neighbors=3, p=2,\n",
              "                     weights='uniform')"
            ]
          },
          "metadata": {},
          "execution_count": 4
        }
      ]
    },
    {
      "cell_type": "code",
      "metadata": {
        "colab": {
          "base_uri": "https://localhost:8080/"
        },
        "id": "vSi4X8RrPemy",
        "outputId": "240c7c5c-e55b-4093-8258-3d3f1015d442"
      },
      "source": [
        "neigh.predict([[0.8]]) #値を予測"
      ],
      "execution_count": 5,
      "outputs": [
        {
          "output_type": "execute_result",
          "data": {
            "text/plain": [
              "array([1])"
            ]
          },
          "metadata": {},
          "execution_count": 5
        }
      ]
    }
  ]
}