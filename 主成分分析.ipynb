{
  "nbformat": 4,
  "nbformat_minor": 0,
  "metadata": {
    "colab": {
      "name": "主成分分析.ipynb",
      "provenance": [],
      "collapsed_sections": []
    },
    "kernelspec": {
      "name": "python3",
      "display_name": "Python 3"
    },
    "language_info": {
      "name": "python"
    }
  },
  "cells": [
    {
      "cell_type": "code",
      "metadata": {
        "colab": {
          "base_uri": "https://localhost:8080/"
        },
        "id": "7xt0X6D-_Nw_",
        "outputId": "28aa1bef-ef05-4792-ba36-5c4e445742af"
      },
      "source": [
        "#データを生成\n",
        "import numpy as np\n",
        "X=np.random.rand(10, 4)\n",
        "print(X)"
      ],
      "execution_count": 4,
      "outputs": [
        {
          "output_type": "stream",
          "name": "stdout",
          "text": [
            "[[0.57474458 0.16751176 0.35264397 0.4309027 ]\n",
            " [0.18800478 0.60807862 0.91871515 0.0232249 ]\n",
            " [0.6039462  0.9651043  0.57734071 0.51948878]\n",
            " [0.64712874 0.17814374 0.14483057 0.03151927]\n",
            " [0.62575414 0.87310484 0.64126612 0.54786158]\n",
            " [0.49916027 0.259644   0.97128355 0.46407301]\n",
            " [0.22934534 0.38941088 0.42845559 0.1687856 ]\n",
            " [0.46389123 0.60854082 0.06718675 0.73438477]\n",
            " [0.80296074 0.39762404 0.02174463 0.33213051]\n",
            " [0.243695   0.38014572 0.63414172 0.57011153]]\n"
          ]
        }
      ]
    },
    {
      "cell_type": "code",
      "metadata": {
        "colab": {
          "base_uri": "https://localhost:8080/"
        },
        "id": "5lt3TmtSEGsY",
        "outputId": "e1ce6684-c371-4229-feeb-d8c400efaafa"
      },
      "source": [
        "from sklearn.decomposition import PCA\n",
        "pca = PCA(n_components=2) #２次元空間へ射影する\n",
        "pca.fit(X) #Xの平均を0にしてから、Wを構成する"
      ],
      "execution_count": 6,
      "outputs": [
        {
          "output_type": "execute_result",
          "data": {
            "text/plain": [
              "PCA(copy=True, iterated_power='auto', n_components=2, random_state=None,\n",
              "    svd_solver='auto', tol=0.0, whiten=False)"
            ]
          },
          "metadata": {},
          "execution_count": 6
        }
      ]
    },
    {
      "cell_type": "code",
      "metadata": {
        "colab": {
          "base_uri": "https://localhost:8080/"
        },
        "id": "dm2AhzDqE1vy",
        "outputId": "8c9e4309-a0cc-41fc-c5cc-679d9ceb8d88"
      },
      "source": [
        "pca.components_ #主成分を表示"
      ],
      "execution_count": 7,
      "outputs": [
        {
          "output_type": "execute_result",
          "data": {
            "text/plain": [
              "array([[-0.34658604,  0.29375681,  0.89071272, -0.01469369],\n",
              "       [ 0.23731118,  0.75216648, -0.14587216,  0.59720207]])"
            ]
          },
          "metadata": {},
          "execution_count": 7
        }
      ]
    },
    {
      "cell_type": "code",
      "metadata": {
        "colab": {
          "base_uri": "https://localhost:8080/"
        },
        "id": "pETkWM3gFRy8",
        "outputId": "0c8b91f4-1fb3-4682-ec0d-aa107b7c3a5b"
      },
      "source": [
        "X2d = pca.fit_transform(X) #Xを射影する\n",
        "print(X2d)"
      ],
      "execution_count": 9,
      "outputs": [
        {
          "output_type": "stream",
          "name": "stdout",
          "text": [
            "[[-0.23308638 -0.16946345]\n",
            " [ 0.54056884 -0.25590155]\n",
            " [ 0.18992958  0.45751559]\n",
            " [-0.43428412 -0.35248728]\n",
            " [ 0.21186806  0.4011113 ]\n",
            " [ 0.37071732 -0.18853457]\n",
            " [ 0.0231864  -0.25212114]\n",
            " [-0.32383051  0.35883747]\n",
            " [-0.53787078  0.04705959]\n",
            " [ 0.1928016  -0.04601596]]\n"
          ]
        }
      ]
    }
  ]
}