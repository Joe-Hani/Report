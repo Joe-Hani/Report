{
  "nbformat": 4,
  "nbformat_minor": 0,
  "metadata": {
    "colab": {
      "name": "FN.ipynb",
      "provenance": [],
      "collapsed_sections": []
    },
    "kernelspec": {
      "name": "python3",
      "display_name": "Python 3"
    },
    "language_info": {
      "name": "python"
    }
  },
  "cells": [
    {
      "cell_type": "code",
      "metadata": {
        "id": "l7Yus0igyU-g"
      },
      "source": [
        "import numpy as np"
      ],
      "execution_count": 1,
      "outputs": []
    },
    {
      "cell_type": "code",
      "metadata": {
        "id": "iPJOxXqaypmk"
      },
      "source": [
        "# W,bを設定\n",
        "W = np.array([[1,2,3],[4,5,6]])\n",
        "b = np.array([7,8])"
      ],
      "execution_count": 3,
      "outputs": []
    },
    {
      "cell_type": "code",
      "metadata": {
        "id": "czIZyPDVzFCQ"
      },
      "source": [
        "# fを設定\n",
        "def f(x):\n",
        "  return 2*x"
      ],
      "execution_count": 6,
      "outputs": []
    },
    {
      "cell_type": "code",
      "metadata": {
        "id": "NMyBnSO6zd0L"
      },
      "source": [
        "# FNを設定\n",
        "def FN(W,b,f,x):\n",
        "  x = x.T\n",
        "  Z = np.dot(W,x)+b\n",
        "  return f(Z)"
      ],
      "execution_count": 11,
      "outputs": []
    },
    {
      "cell_type": "code",
      "metadata": {
        "colab": {
          "base_uri": "https://localhost:8080/"
        },
        "id": "IkzHPBGY0ULx",
        "outputId": "70fb7460-550a-49e9-d154-8bec61c3cbc0"
      },
      "source": [
        "#出力\n",
        "x = np.array([1,2,3])\n",
        "FN(W,b,f,x)\n"
      ],
      "execution_count": 12,
      "outputs": [
        {
          "output_type": "execute_result",
          "data": {
            "text/plain": [
              "array([42, 80])"
            ]
          },
          "metadata": {},
          "execution_count": 12
        }
      ]
    }
  ]
}
