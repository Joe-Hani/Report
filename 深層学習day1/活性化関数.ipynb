{
  "nbformat": 4,
  "nbformat_minor": 0,
  "metadata": {
    "colab": {
      "name": "活性化関数.ipynb",
      "provenance": [],
      "collapsed_sections": []
    },
    "kernelspec": {
      "name": "python3",
      "display_name": "Python 3"
    },
    "language_info": {
      "name": "python"
    }
  },
  "cells": [
    {
      "cell_type": "code",
      "metadata": {
        "id": "l7Yus0igyU-g"
      },
      "source": [
        "import numpy as np"
      ],
      "execution_count": 16,
      "outputs": []
    },
    {
      "cell_type": "code",
      "metadata": {
        "id": "iPJOxXqaypmk"
      },
      "source": [
        "# W,bを設定\n",
        "W = np.array([[1,2,3],[4,5,6]])\n",
        "b = np.array([7,8])"
      ],
      "execution_count": 17,
      "outputs": []
    },
    {
      "cell_type": "code",
      "metadata": {
        "id": "czIZyPDVzFCQ"
      },
      "source": [
        "# fを設定\n",
        "def f(x):\n",
        "  return 1/1+np.exp(-x)"
      ],
      "execution_count": 18,
      "outputs": []
    },
    {
      "cell_type": "code",
      "metadata": {
        "id": "NMyBnSO6zd0L"
      },
      "source": [
        "# FNを設定\n",
        "def FN(W,b,f,x):\n",
        "  x = x.T\n",
        "  Z = np.dot(W,x)+b\n",
        "  return f(Z)"
      ],
      "execution_count": 19,
      "outputs": []
    },
    {
      "cell_type": "code",
      "metadata": {
        "colab": {
          "base_uri": "https://localhost:8080/"
        },
        "id": "IkzHPBGY0ULx",
        "outputId": "220ada64-acee-4bc6-fa28-534f0d3a5e7a"
      },
      "source": [
        "#出力\n",
        "x = np.array([1,2,3])\n",
        "FN(W,b,f,x)\n"
      ],
      "execution_count": 20,
      "outputs": [
        {
          "output_type": "execute_result",
          "data": {
            "text/plain": [
              "array([1., 1.])"
            ]
          },
          "metadata": {},
          "execution_count": 20
        }
      ]
    }
  ]
}